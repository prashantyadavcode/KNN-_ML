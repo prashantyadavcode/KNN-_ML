{
 "cells": [
  {.
   "cell_type": "markdown",
   "id": "1b396d2b",
   "metadata": {},
   "source": [
    "# K-Nearest Neighbor"
   ]
  },
  {
   "cell_type": "markdown",
   "id": "db4b8fd5",
   "metadata": {},
   "source": [
    "This algorithm is used to solve the classification model problems. K-nearest neighbor or K-NN algorithm basically creates an imaginary boundary to classify the data. When new data points come in, the algorithm will try to predict that to the nearest of the boundary line.\n",
    "\n",
    "Therefore, larger k value means smother curves of separation resulting in less complex models. Whereas, smaller k value tends to overfit the data and resulting in complex models."
   ]
  },
  {
   "cell_type": "markdown",
   "id": "db5881d3",
   "metadata": {},
   "source": [
    "Supervised Learning : \n",
    "It is the learning where the value or result that we want to predict is within the training data (labeled data) and the value which is in data that we want to study is known as Target or Dependent Variable or Response Variable.\n",
    "\n",
    " All the other columns in the dataset are known as the Feature or Predictor Variable or Independent Variable.\n",
    "\n",
    "Supervised Learning is classified into two categories:\n",
    "\n",
    "Classification: Here our target variable consists of the categories.\n",
    "Regression: Here our target variable is continuous and we usually try to find out the line of the curve.\n",
    "As we have understood that to carry out supervised learning we need labeled data. How we can get labeled data? There are various ways to get labeled data: \n",
    "\n",
    "Historical labeled Data\n",
    "Experiment to get data: We can perform experiments to generate labeled data like A/B Testing.\n",
    "Crowd-sourcing"
   ]
  },
  {
   "cell_type": "code",
   "execution_count": 6,
   "id": "82bb1733",
   "metadata": {},
   "outputs": [],
   "source": [
    "from sklearn.neighbors import KNeighborsClassifier\n",
    "from sklearn.model_selection import train_test_split\n",
    "from sklearn.datasets import load_iris"
   ]
  },
  {
   "cell_type": "code",
   "execution_count": 7,
   "id": "7263bb07",
   "metadata": {},
   "outputs": [],
   "source": [
    "irisData = load_iris()"
   ]
  },
  {
   "cell_type": "code",
   "execution_count": 8,
   "id": "483ade68",
   "metadata": {},
   "outputs": [],
   "source": [
    "x = irisData.data\n",
    "y = irisData.target"
   ]
  },
  {
   "cell_type": "code",
   "execution_count": 9,
   "id": "6d713844",
   "metadata": {},
   "outputs": [],
   "source": [
    "x_train, x_test, y_train, y_test = train_test_split(x, y, test_size = 0.2, random_state = 42 )"
   ]
  },
  {
   "cell_type": "code",
   "execution_count": 11,
   "id": "234196b2",
   "metadata": {},
   "outputs": [],
   "source": [
    "knn = KNeighborsClassifier(n_neighbors = 7)"
   ]
  },
  {
   "cell_type": "code",
   "execution_count": 12,
   "id": "12c75bbf",
   "metadata": {},
   "outputs": [
    {
     "data": {
      "text/plain": [
       "KNeighborsClassifier(n_neighbors=7)"
      ]
     },
     "execution_count": 12,
     "metadata": {},
     "output_type": "execute_result"
    }
   ],
   "source": [
    "knn.fit(x_train, y_train)"
   ]
  },
  {
   "cell_type": "code",
   "execution_count": 13,
   "id": "c387e20b",
   "metadata": {},
   "outputs": [
    {
     "name": "stdout",
     "output_type": "stream",
     "text": [
      "[1 0 2 1 1 0 1 2 2 1 2 0 0 0 0 1 2 1 1 2 0 2 0 2 2 2 2 2 0 0]\n"
     ]
    }
   ],
   "source": [
    "print(knn.predict(x_test))"
   ]
  },
  {
   "cell_type": "code",
   "execution_count": 14,
   "id": "1fa41fbb",
   "metadata": {},
   "outputs": [
    {
     "name": "stdout",
     "output_type": "stream",
     "text": [
      "0.9666666666666667\n"
     ]
    }
   ],
   "source": [
    "print(knn.score(x_test, y_test))"
   ]
  },
  {
   "cell_type": "code",
   "execution_count": 17,
   "id": "cd92637d",
   "metadata": {},
   "outputs": [],
   "source": [
    "import numpy as np\n",
    "import matplotlib.pyplot as plt\n",
    "\n",
    "neighbors = np.arange(1, 9)\n",
    "train_accuracy = np.empty(len(neighbors))\n",
    "test_accuracy = np.empty(len(neighbors))"
   ]
  },
  {
   "cell_type": "code",
   "execution_count": 19,
   "id": "ad9f5b5d",
   "metadata": {},
   "outputs": [],
   "source": [
    "for i, k in enumerate(neighbors):\n",
    "    knn = KNeighborsClassifier(n_neighbors = k)\n",
    "    knn.fit(x_train, y_train)\n",
    "    \n",
    "    train_accuracy[i] = knn.score(x_train, y_train)\n",
    "    test_accuracy[i] = knn.score(x_test, y_test)"
   ]
  },
  {
   "cell_type": "code",
   "execution_count": 23,
   "id": "3b16e7b5",
   "metadata": {},
   "outputs": [
    {
     "data": {
      "image/png": "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\n",
      "text/plain": [
       "<Figure size 432x288 with 1 Axes>"
      ]
     },
     "metadata": {
      "needs_background": "light"
     },
     "output_type": "display_data"
    }
   ],
   "source": [
    "plt.plot(neighbors, test_accuracy, label = 'Testing dataset Accuracy')\n",
    "plt.plot(neighbors, test_accuracy, label = 'Training dataset Accuracy')\n",
    "\n",
    "plt.legend()\n",
    "plt.xlabel('n_neighbors')\n",
    "plt.ylabel('accuracy')\n",
    "plt.show()"
   ]
  },
  {
   "cell_type": "code",
   "execution_count": null,
   "id": "32d1a189",
   "metadata": {},
   "outputs": [],
   "source": []
  }
 ],
 "metadata": {
  "kernelspec": {
   "display_name": "Python 3 (ipykernel)",
   "language": "python",
   "name": "python3"
  },
  "language_info": {
   "codemirror_mode": {
    "name": "ipython",
    "version": 3
   },
   "file_extension": ".py",
   "mimetype": "text/x-python",
   "name": "python",
   "nbconvert_exporter": "python",
   "pygments_lexer": "ipython3",
   "version": "3.9.7"
  }
 },
 "nbformat": 4,
 "nbformat_minor": 5
}
